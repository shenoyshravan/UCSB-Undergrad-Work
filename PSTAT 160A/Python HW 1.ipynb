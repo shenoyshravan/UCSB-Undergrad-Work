{
 "cells": [
  {
   "cell_type": "markdown",
   "metadata": {},
   "source": [
    "# Python Homework 1"
   ]
  },
  {
   "cell_type": "markdown",
   "metadata": {},
   "source": [
    "<b> Instructions:</b> This Python Homework is due on <b> Thursday, January 21st, at 11:59 p.m.</b> You have to submit your version of this Jupyter Notebook via Gradescope!"
   ]
  },
  {
   "cell_type": "markdown",
   "metadata": {},
   "source": [
    "In this homework you are supposed to use the random number generater random.random_sample from the numpy package to generate random numbers with three different distributions. \n",
    "\n",
    "Recall from the lecture that if $F:\\mathbb{R}\\rightarrow [0,1]$ is a distribution function with generalized inverse $F^{-1}:[0,1]\\rightarrow \\mathbb{R}$ and $U$ is a uniform random variable, then $F^{-1}(U)$ is a random variable with distribution function $F$.\n",
    "\n",
    "Using the function random.random_sample from numpy package write three functions: \n",
    "* exponentialRV(seed, mean,n) that returns for given seed a bunch of n random variables from an exponential distribution with the provided mean. Derive the generalized inverse distribution function analytically for your simulation.\n",
    "* poissonRV(seed, mean,n) that returns for given seed a bunch of n Poisson distributed random numbers with the provided mean. You have to numerically calculate the inverse distribution function.\n",
    "* funnyDiceRV(seed,n) that returns for given seed a bunch of n random number which describe a biased die with distribution $\\mathbb{P}(\\{1\\})=\\mathbb{P}(\\{2\\})=\\mathbb{P}(\\{3\\})=\\mathbb{P}(\\{4\\})=\\mathbb{P}(\\{5\\})=1/10$ and $\\mathbb{P}(\\{6\\})=1/2$."
   ]
  },
  {
   "cell_type": "code",
   "execution_count": 84,
   "metadata": {},
   "outputs": [],
   "source": [
    "import numpy as np\n",
    "import math\n",
    "import matplotlib.pyplot as plt"
   ]
  },
  {
   "cell_type": "markdown",
   "metadata": {},
   "source": [
    "Here should come your code for the three functions:"
   ]
  },
  {
   "cell_type": "code",
   "execution_count": 85,
   "metadata": {},
   "outputs": [],
   "source": [
    "def exponentialRV(seed, mean,n):\n",
    "    \n",
    "    randomProbExp=[]\n",
    "    exponentialSample=[] #Empty lists, will be populated\n",
    "    \n",
    "    np.random.seed(seed) #Generate using random num\n",
    "    \n",
    "    randomProbExp=np.random.random_sample(n) #Probabilities used for inv func\n",
    "    \n",
    "    populateValuesExp=0 #Default value, will be changed\n",
    "    \n",
    "    for k in range(n): #Populates exponentialSample\n",
    "        populateValuesExp= ((np.log(1-randomProbExp[k]))*(-mean))\n",
    "        exponentialSample.append(populateValuesExp)\n",
    "    \n",
    "    return exponentialSample"
   ]
  },
  {
   "cell_type": "code",
   "execution_count": 86,
   "metadata": {},
   "outputs": [],
   "source": [
    "def poissonRV(seed, mean, n):\n",
    "    \n",
    "    np.random.seed(seed)\n",
    "    randomProbPoiss = np.random.random_sample(n)\n",
    "    poissonSample=[] \n",
    "        \n",
    "    for k in range(n):\n",
    "        mutableValue=0 #Placeholder value that will increase over time\n",
    "        probPoiss=0\n",
    "        while probPoiss < randomProbPoiss[k]: #populates poissonSample\n",
    "            probPoiss = probPoiss+(math.e**(-mean)*((mean**mutableValue)/(math.factorial(mutableValue))))\n",
    "            if probPoiss<randomProbPoiss[k]:\n",
    "                mutableValue=mutableValue+1\n",
    "            else:\n",
    "                poissonSample.append(mutableValue)\n",
    "    \n",
    "    return poissonSample"
   ]
  },
  {
   "cell_type": "code",
   "execution_count": 87,
   "metadata": {},
   "outputs": [],
   "source": [
    "def funnyDiceRV(seed, n):\n",
    "      \n",
    "    np.random.seed(seed) #Generate using random num\n",
    "    \n",
    "    randomProbDice=np.random.random_sample(n) #Probability used in function\n",
    "    funnyDiceSample=[]\n",
    "    \n",
    "    for k in range(n): #Various statements to account for CDF\n",
    "        if randomProbDice[k]<(1/10) and randomProbDice[k]>=(0/10):\n",
    "            funnyDiceSample.append(1)\n",
    "        if randomProbDice[k]>=(1/10) and randomProbDice[k]<(2/10):\n",
    "            funnyDiceSample.append(2)\n",
    "        if randomProbDice[k]>=(2/10) and randomProbDice[k]<(3/10):\n",
    "            funnyDiceSample.append(3)\n",
    "        if randomProbDice[k]>=(3/10) and randomProbDice[k]<(4/10):\n",
    "            funnyDiceSample.append(4)\n",
    "        if randomProbDice[k]>=(4/10) and randomProbDice[k]<(5/10):\n",
    "            funnyDiceSample.append(5)\n",
    "        if randomProbDice[k]>=(5/10) and randomProbDice[k]<(10/10):\n",
    "            funnyDiceSample.append(6)\n",
    "    \n",
    "    return funnyDiceSample"
   ]
  },
  {
   "cell_type": "code",
   "execution_count": 88,
   "metadata": {
    "scrolled": false
   },
   "outputs": [
    {
     "name": "stdout",
     "output_type": "stream",
     "text": [
      "[0.2623650861900565, 1.2171737414601362, 5.884564774747791, 0.3350978072529029, 2.301285780939671]\n",
      "[1, 2, 4, 1, 2]\n",
      "[1, 4, 6, 2, 6]\n"
     ]
    }
   ],
   "source": [
    "print(exponentialRV(105, 3,5))# You should test all three functions \n",
    "print(poissonRV(105, 2.5,5))\n",
    "print(funnyDiceRV(105, 5))"
   ]
  },
  {
   "cell_type": "markdown",
   "metadata": {},
   "source": [
    "You should use the following routine to plot a histogram of the distribution of all three simulated random variables"
   ]
  },
  {
   "cell_type": "code",
   "execution_count": 89,
   "metadata": {},
   "outputs": [
    {
     "data": {
      "image/png": "[encoded data removed]",
      "text/plain": [
       "<Figure size 432x288 with 1 Axes>"
      ]
     },
     "metadata": {
      "needs_background": "light"
     },
     "output_type": "display_data"
    },
    {
     "data": {
      "image/png": "[encoded data removed]",
      "text/plain": [
       "<Figure size 432x288 with 1 Axes>"
      ]
     },
     "metadata": {
      "needs_background": "light"
     },
     "output_type": "display_data"
    },
    {
     "data": {
      "image/png": "[encoded data removed]",
      "text/plain": [
       "<Figure size 432x288 with 1 Axes>"
      ]
     },
     "metadata": {
      "needs_background": "light"
     },
     "output_type": "display_data"
    }
   ],
   "source": [
    "numberSimulations=10000\n",
    "exponentialSamples=exponentialRV(1, 2,numberSimulations)\n",
    "poissonSamples=poissonRV(1, 4,numberSimulations)\n",
    "funnyDiceSamples=funnyDiceRV(1, numberSimulations)\n",
    "\n",
    "#np.histogram(exponentialSamples)\n",
    "plt.hist(exponentialSamples, bins='auto')\n",
    "plt.title(\"Histogram Exponential\")\n",
    "plt.show()\n",
    "plt.hist(poissonSamples, bins='auto')\n",
    "plt.title(\"Histogram Poisson\")\n",
    "plt.show()\n",
    "plt.hist(funnyDiceSamples, bins='auto')\n",
    "plt.title(\"Histogram Funny Dice\")\n",
    "plt.show()"
   ]
  },
  {
   "cell_type": "markdown",
   "metadata": {},
   "source": [
    "For the exponential random variable, you should then test the empirical expectation and variance of the random variables you generated. Assume you have generated random variables $X_1,X_2,X_3,\\dots,X_n$ calculate the empirical mean \n",
    "\\begin{equation}\n",
    "\\hat{\\text{ }\\mu} =\\frac{\\sum^n_{i=1} X_i}{n}\n",
    "\\end{equation}\n",
    "and the empirical variance \n",
    "\\begin{equation}\n",
    "\\hat{\\text{ }\\sigma} = \\frac{\\sum^n_{i=1}(X_i - \\hat{\\mu})^2}{n}\n",
    "\\end{equation}\n",
    "Use 10000 simulations. Is the result of your calculation in line with what you expect? Why?"
   ]
  },
  {
   "cell_type": "code",
   "execution_count": 90,
   "metadata": {},
   "outputs": [
    {
     "name": "stdout",
     "output_type": "stream",
     "text": [
      "1.9770938809848242\n",
      "3.84858102932464\n"
     ]
    }
   ],
   "source": [
    "samples=exponentialRV(1,2,10000)\n",
    "empiricalMean=0\n",
    "for mutVal in samples:\n",
    "    empiricalMean=empiricalMean+mutVal\n",
    "empiricalMean=((1/10000)*(empiricalMean))\n",
    "\n",
    "empiricalVar=0\n",
    "for mutVal in samples:\n",
    "    empiricalVar=empiricalVar+(mutVal-empiricalMean)**2 \n",
    "empiricalVar=((1/10000)*(empiricalVar))\n",
    "\n",
    "print(empiricalMean)\n",
    "print(empiricalVar)"
   ]
  },
  {
   "cell_type": "code",
   "execution_count": 91,
   "metadata": {},
   "outputs": [],
   "source": [
    "# Yes, the results are as expected. The value for the mean is approaching 2, whereas\n",
    "# the variance is approaching 4, and will continue to do so if we were to increase\n",
    "# the number of simulations"
   ]
  },
  {
   "cell_type": "code",
   "execution_count": null,
   "metadata": {},
   "outputs": [],
   "source": []
  },
  {
   "cell_type": "code",
   "execution_count": null,
   "metadata": {},
   "outputs": [],
   "source": []
  }
 ],
 "metadata": {
  "anaconda-cloud": {},
  "kernelspec": {
   "display_name": "Python 3",
   "language": "python",
   "name": "python3"
  },
  "language_info": {
   "codemirror_mode": {
    "name": "ipython",
    "version": 3
   },
   "file_extension": ".py",
   "mimetype": "text/x-python",
   "name": "python",
   "nbconvert_exporter": "python",
   "pygments_lexer": "ipython3",
   "version": "3.8.5"
  }
 },
 "nbformat": 4,
 "nbformat_minor": 2
}
